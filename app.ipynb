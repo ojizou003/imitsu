{
 "cells": [
  {
   "cell_type": "markdown",
   "metadata": {},
   "source": [
    "## Imports"
   ]
  },
  {
   "cell_type": "code",
   "execution_count": 1,
   "metadata": {},
   "outputs": [],
   "source": [
    "import requests\n",
    "from bs4 import BeautifulSoup\n",
    "import pandas as pd\n",
    "from time import sleep\n",
    "import pickle\n",
    "from tqdm import tqdm\n",
    "import csv"
   ]
  },
  {
   "cell_type": "markdown",
   "metadata": {},
   "source": [
    "## リストページのurlを取得"
   ]
  },
  {
   "cell_type": "code",
   "execution_count": 2,
   "metadata": {},
   "outputs": [],
   "source": [
    "page_nums = range(1, 152)\n",
    "listpage_urls = [f'https://imitsu.jp/ct-app-developer/search/?pn={p}#title' for p in page_nums]"
   ]
  },
  {
   "cell_type": "markdown",
   "metadata": {},
   "source": [
    "## 詳細ページのurlを取得"
   ]
  },
  {
   "cell_type": "code",
   "execution_count": 3,
   "metadata": {},
   "outputs": [
    {
     "name": "stderr",
     "output_type": "stream",
     "text": [
      "  0%|          | 0/151 [00:00<?, ?it/s]"
     ]
    },
    {
     "name": "stderr",
     "output_type": "stream",
     "text": [
      "100%|██████████| 151/151 [05:06<00:00,  2.03s/it]\n"
     ]
    }
   ],
   "source": [
    "url_list = []\n",
    "for listpage_url in tqdm(listpage_urls):\n",
    "    try:\n",
    "        res = requests.get(listpage_url)\n",
    "        sleep(1)\n",
    "        soup = BeautifulSoup(res.text, 'html.parser')\n",
    "        cards = soup.select('h3.service-title')\n",
    "        urls = []\n",
    "        for card in cards:\n",
    "            url = card.find('a').get('href')\n",
    "            urls.append(url)\n",
    "        url_list.extend(urls)\n",
    "    except Exception:\n",
    "        print(f'Error fetching {listpage_url}')\n",
    "        continue"
   ]
  },
  {
   "cell_type": "code",
   "execution_count": 4,
   "metadata": {},
   "outputs": [],
   "source": [
    "# Save the list of URLs to a file\n",
    "with open('./data/url_list_app.pkl', 'wb') as f:\n",
    "    pickle.dump(url_list, f)"
   ]
  },
  {
   "cell_type": "markdown",
   "metadata": {},
   "source": [
    "## スクレイピング"
   ]
  },
  {
   "cell_type": "code",
   "execution_count": 5,
   "metadata": {},
   "outputs": [],
   "source": [
    "# Load the list of URLs from the file\n",
    "with open('./data/url_list_app.pkl', 'rb') as f:\n",
    "    url_list = pickle.load(f)"
   ]
  },
  {
   "cell_type": "code",
   "execution_count": 6,
   "metadata": {},
   "outputs": [
    {
     "name": "stderr",
     "output_type": "stream",
     "text": [
      "100%|██████████| 3004/3004 [1:19:27<00:00,  1.59s/it]\n"
     ]
    }
   ],
   "source": [
    "with open('./data/appDev.csv', 'w', newline='', encoding='utf-8-sig') as f:\n",
    "    writer = csv.DictWriter(f, fieldnames=['No.', '会社名', '設立年', '代表者名', '従業員数', '住所', '会社URL'])\n",
    "    writer.writeheader()\n",
    "    for i, url in enumerate(tqdm(url_list)):\n",
    "        try:\n",
    "            res = requests.get(url)\n",
    "            sleep(0.3)\n",
    "            soup = BeautifulSoup(res.text, 'html.parser')\n",
    "            table = soup.select_one('div.supplier-information')\n",
    "            dts = table.find_all('dt')\n",
    "            dds = table.find_all('dd')\n",
    "            name = ' - '\n",
    "            year = ' - '\n",
    "            rep = ' - '\n",
    "            emp = ' - '\n",
    "            addr = ' - '\n",
    "            c_url = ' - '\n",
    "            for dt, dd in zip(dts, dds):\n",
    "                if dt.text == '会社名':\n",
    "                    name = dd.text.replace('\\n', '').strip()\n",
    "                elif dt.text == '設立年':\n",
    "                    year = dd.text.replace('\\n', '').strip()\n",
    "                elif dt.text == '代表者名':\n",
    "                    rep = dd.text.replace('\\n', '').strip()\n",
    "                elif dt.text == '従業員数':\n",
    "                    emp = dd.text.replace('\\n', '').strip()\n",
    "                elif dt.text == '住所':\n",
    "                    addr = dd.text.replace('\\n', '').strip()\n",
    "                elif dt.text == '会社URL':\n",
    "                    c_url = dd.text.replace('\\n', '').strip()\n",
    "                else:\n",
    "                    continue\n",
    "                item = {\n",
    "                    'No.': i + 1,\n",
    "                    '会社名': name,\n",
    "                    '設立年': year,\n",
    "                    '代表者名': rep,\n",
    "                    '従業員数': emp,\n",
    "                    '住所': addr,\n",
    "                    '会社URL': c_url\n",
    "                }\n",
    "            writer.writerow(item)\n",
    "        except Exception:\n",
    "            print(f'Error fetching {i}, {url}')\n",
    "            continue"
   ]
  },
  {
   "cell_type": "markdown",
   "metadata": {},
   "source": [
    "## 検証"
   ]
  },
  {
   "cell_type": "code",
   "execution_count": null,
   "metadata": {},
   "outputs": [
    {
     "data": {
      "text/plain": [
       "3004"
      ]
     },
     "execution_count": 7,
     "metadata": {},
     "output_type": "execute_result"
    }
   ],
   "source": [
    "result_df = pd.read_csv('./data/appDev.csv', encoding='utf-8-sig')\n",
    "len(result_df)"
   ]
  },
  {
   "cell_type": "code",
   "execution_count": null,
   "metadata": {},
   "outputs": [],
   "source": []
  }
 ],
 "metadata": {
  "kernelspec": {
   "display_name": ".venv",
   "language": "python",
   "name": "python3"
  },
  "language_info": {
   "codemirror_mode": {
    "name": "ipython",
    "version": 3
   },
   "file_extension": ".py",
   "mimetype": "text/x-python",
   "name": "python",
   "nbconvert_exporter": "python",
   "pygments_lexer": "ipython3",
   "version": "3.11.12"
  }
 },
 "nbformat": 4,
 "nbformat_minor": 2
}
